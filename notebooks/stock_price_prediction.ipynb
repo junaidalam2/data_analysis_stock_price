{
 "cells": [
  {
   "cell_type": "code",
   "execution_count": 1,
   "id": "5de161b0",
   "metadata": {},
   "outputs": [],
   "source": [
    "import pandas as pd \n",
    "import numpy as np \n",
    "import matplotlib.pyplot as plt \n",
    "import pandas_datareader as data\n",
    "\n",
    "plt.style.use('fivethirtyeight')\n",
    "%matplotlib inline"
   ]
  },
  {
   "cell_type": "code",
   "execution_count": 3,
   "id": "e59db4d3",
   "metadata": {},
   "outputs": [
    {
     "name": "stderr",
     "output_type": "stream",
     "text": [
      "C:\\Users\\junai\\AppData\\Local\\Temp\\ipykernel_13660\\2592194838.py:8: FutureWarning: YF.download() has changed argument auto_adjust default to True\n",
      "  df = yf.download(stock, start, end)\n",
      "[*********************100%***********************]  1 of 1 completed\n"
     ]
    }
   ],
   "source": [
    "import yfinance as yf\n",
    "import datetime as dt\n",
    "\n",
    "stock = \"POWERGRID.NS\"\n",
    "start = dt.datetime(2000, 1, 1)\n",
    "end = dt.datetime(2024, 11, 1)\n",
    "\n",
    "df = yf.download(stock, start, end)\n"
   ]
  },
  {
   "cell_type": "code",
   "execution_count": 4,
   "id": "0312dfa8",
   "metadata": {},
   "outputs": [
    {
     "data": {
      "text/html": [
       "<div>\n",
       "<style scoped>\n",
       "    .dataframe tbody tr th:only-of-type {\n",
       "        vertical-align: middle;\n",
       "    }\n",
       "\n",
       "    .dataframe tbody tr th {\n",
       "        vertical-align: top;\n",
       "    }\n",
       "\n",
       "    .dataframe thead tr th {\n",
       "        text-align: left;\n",
       "    }\n",
       "\n",
       "    .dataframe thead tr:last-of-type th {\n",
       "        text-align: right;\n",
       "    }\n",
       "</style>\n",
       "<table border=\"1\" class=\"dataframe\">\n",
       "  <thead>\n",
       "    <tr>\n",
       "      <th>Price</th>\n",
       "      <th>Close</th>\n",
       "      <th>High</th>\n",
       "      <th>Low</th>\n",
       "      <th>Open</th>\n",
       "      <th>Volume</th>\n",
       "    </tr>\n",
       "    <tr>\n",
       "      <th>Ticker</th>\n",
       "      <th>POWERGRID.NS</th>\n",
       "      <th>POWERGRID.NS</th>\n",
       "      <th>POWERGRID.NS</th>\n",
       "      <th>POWERGRID.NS</th>\n",
       "      <th>POWERGRID.NS</th>\n",
       "    </tr>\n",
       "    <tr>\n",
       "      <th>Date</th>\n",
       "      <th></th>\n",
       "      <th></th>\n",
       "      <th></th>\n",
       "      <th></th>\n",
       "      <th></th>\n",
       "    </tr>\n",
       "  </thead>\n",
       "  <tbody>\n",
       "    <tr>\n",
       "      <th>2007-10-05</th>\n",
       "      <td>32.545429</td>\n",
       "      <td>35.424697</td>\n",
       "      <td>26.900123</td>\n",
       "      <td>29.051487</td>\n",
       "      <td>855215656</td>\n",
       "    </tr>\n",
       "    <tr>\n",
       "      <th>2007-10-08</th>\n",
       "      <td>30.879328</td>\n",
       "      <td>33.645365</td>\n",
       "      <td>30.685219</td>\n",
       "      <td>33.645365</td>\n",
       "      <td>126671715</td>\n",
       "    </tr>\n",
       "    <tr>\n",
       "      <th>2007-10-09</th>\n",
       "      <td>32.982182</td>\n",
       "      <td>33.273343</td>\n",
       "      <td>29.229427</td>\n",
       "      <td>30.895519</td>\n",
       "      <td>116725709</td>\n",
       "    </tr>\n",
       "    <tr>\n",
       "      <th>2007-10-10</th>\n",
       "      <td>33.289513</td>\n",
       "      <td>33.968891</td>\n",
       "      <td>32.998352</td>\n",
       "      <td>33.839485</td>\n",
       "      <td>67931378</td>\n",
       "    </tr>\n",
       "    <tr>\n",
       "      <th>2007-10-11</th>\n",
       "      <td>37.009903</td>\n",
       "      <td>38.821577</td>\n",
       "      <td>32.998342</td>\n",
       "      <td>38.821577</td>\n",
       "      <td>106320954</td>\n",
       "    </tr>\n",
       "  </tbody>\n",
       "</table>\n",
       "</div>"
      ],
      "text/plain": [
       "Price             Close         High          Low         Open       Volume\n",
       "Ticker     POWERGRID.NS POWERGRID.NS POWERGRID.NS POWERGRID.NS POWERGRID.NS\n",
       "Date                                                                       \n",
       "2007-10-05    32.545429    35.424697    26.900123    29.051487    855215656\n",
       "2007-10-08    30.879328    33.645365    30.685219    33.645365    126671715\n",
       "2007-10-09    32.982182    33.273343    29.229427    30.895519    116725709\n",
       "2007-10-10    33.289513    33.968891    32.998352    33.839485     67931378\n",
       "2007-10-11    37.009903    38.821577    32.998342    38.821577    106320954"
      ]
     },
     "execution_count": 4,
     "metadata": {},
     "output_type": "execute_result"
    }
   ],
   "source": [
    "df.head()"
   ]
  },
  {
   "cell_type": "code",
   "execution_count": 5,
   "id": "12e79481",
   "metadata": {},
   "outputs": [
    {
     "data": {
      "text/plain": [
       "(4208, 5)"
      ]
     },
     "execution_count": 5,
     "metadata": {},
     "output_type": "execute_result"
    }
   ],
   "source": [
    "df.shape"
   ]
  },
  {
   "cell_type": "code",
   "execution_count": 6,
   "id": "9741ffed",
   "metadata": {},
   "outputs": [
    {
     "name": "stdout",
     "output_type": "stream",
     "text": [
      "<class 'pandas.core.frame.DataFrame'>\n",
      "DatetimeIndex: 4208 entries, 2007-10-05 to 2024-10-31\n",
      "Data columns (total 5 columns):\n",
      " #   Column                  Non-Null Count  Dtype  \n",
      "---  ------                  --------------  -----  \n",
      " 0   (Close, POWERGRID.NS)   4208 non-null   float64\n",
      " 1   (High, POWERGRID.NS)    4208 non-null   float64\n",
      " 2   (Low, POWERGRID.NS)     4208 non-null   float64\n",
      " 3   (Open, POWERGRID.NS)    4208 non-null   float64\n",
      " 4   (Volume, POWERGRID.NS)  4208 non-null   int64  \n",
      "dtypes: float64(4), int64(1)\n",
      "memory usage: 197.2 KB\n"
     ]
    }
   ],
   "source": [
    "df.info()"
   ]
  },
  {
   "cell_type": "code",
   "execution_count": 7,
   "id": "183dca2f",
   "metadata": {},
   "outputs": [
    {
     "data": {
      "text/plain": [
       "Price   Ticker      \n",
       "Close   POWERGRID.NS    0\n",
       "High    POWERGRID.NS    0\n",
       "Low     POWERGRID.NS    0\n",
       "Open    POWERGRID.NS    0\n",
       "Volume  POWERGRID.NS    0\n",
       "dtype: int64"
      ]
     },
     "execution_count": 7,
     "metadata": {},
     "output_type": "execute_result"
    }
   ],
   "source": [
    "df.isnull().sum()"
   ]
  },
  {
   "cell_type": "code",
   "execution_count": 8,
   "id": "15d3e016",
   "metadata": {},
   "outputs": [
    {
     "data": {
      "text/html": [
       "<div>\n",
       "<style scoped>\n",
       "    .dataframe tbody tr th:only-of-type {\n",
       "        vertical-align: middle;\n",
       "    }\n",
       "\n",
       "    .dataframe tbody tr th {\n",
       "        vertical-align: top;\n",
       "    }\n",
       "\n",
       "    .dataframe thead tr th {\n",
       "        text-align: left;\n",
       "    }\n",
       "</style>\n",
       "<table border=\"1\" class=\"dataframe\">\n",
       "  <thead>\n",
       "    <tr>\n",
       "      <th>Price</th>\n",
       "      <th>Close</th>\n",
       "      <th>High</th>\n",
       "      <th>Low</th>\n",
       "      <th>Open</th>\n",
       "      <th>Volume</th>\n",
       "    </tr>\n",
       "    <tr>\n",
       "      <th>Ticker</th>\n",
       "      <th>POWERGRID.NS</th>\n",
       "      <th>POWERGRID.NS</th>\n",
       "      <th>POWERGRID.NS</th>\n",
       "      <th>POWERGRID.NS</th>\n",
       "      <th>POWERGRID.NS</th>\n",
       "    </tr>\n",
       "  </thead>\n",
       "  <tbody>\n",
       "    <tr>\n",
       "      <th>count</th>\n",
       "      <td>4208.000000</td>\n",
       "      <td>4208.000000</td>\n",
       "      <td>4208.000000</td>\n",
       "      <td>4208.000000</td>\n",
       "      <td>4.208000e+03</td>\n",
       "    </tr>\n",
       "    <tr>\n",
       "      <th>mean</th>\n",
       "      <td>79.483549</td>\n",
       "      <td>80.517027</td>\n",
       "      <td>78.462750</td>\n",
       "      <td>79.520589</td>\n",
       "      <td>1.188963e+07</td>\n",
       "    </tr>\n",
       "    <tr>\n",
       "      <th>std</th>\n",
       "      <td>63.570576</td>\n",
       "      <td>64.313382</td>\n",
       "      <td>62.779670</td>\n",
       "      <td>63.552224</td>\n",
       "      <td>2.061999e+07</td>\n",
       "    </tr>\n",
       "    <tr>\n",
       "      <th>min</th>\n",
       "      <td>19.001730</td>\n",
       "      <td>20.312194</td>\n",
       "      <td>17.036034</td>\n",
       "      <td>20.213909</td>\n",
       "      <td>0.000000e+00</td>\n",
       "    </tr>\n",
       "    <tr>\n",
       "      <th>25%</th>\n",
       "      <td>36.529133</td>\n",
       "      <td>37.105430</td>\n",
       "      <td>35.989641</td>\n",
       "      <td>36.566533</td>\n",
       "      <td>4.799653e+06</td>\n",
       "    </tr>\n",
       "    <tr>\n",
       "      <th>50%</th>\n",
       "      <td>55.504938</td>\n",
       "      <td>56.145825</td>\n",
       "      <td>54.762127</td>\n",
       "      <td>55.611511</td>\n",
       "      <td>8.344398e+06</td>\n",
       "    </tr>\n",
       "    <tr>\n",
       "      <th>75%</th>\n",
       "      <td>83.112986</td>\n",
       "      <td>84.105051</td>\n",
       "      <td>82.127443</td>\n",
       "      <td>83.135585</td>\n",
       "      <td>1.362032e+07</td>\n",
       "    </tr>\n",
       "    <tr>\n",
       "      <th>max</th>\n",
       "      <td>356.113861</td>\n",
       "      <td>356.893408</td>\n",
       "      <td>348.074624</td>\n",
       "      <td>354.749603</td>\n",
       "      <td>8.552157e+08</td>\n",
       "    </tr>\n",
       "  </tbody>\n",
       "</table>\n",
       "</div>"
      ],
      "text/plain": [
       "Price         Close         High          Low         Open        Volume\n",
       "Ticker POWERGRID.NS POWERGRID.NS POWERGRID.NS POWERGRID.NS  POWERGRID.NS\n",
       "count   4208.000000  4208.000000  4208.000000  4208.000000  4.208000e+03\n",
       "mean      79.483549    80.517027    78.462750    79.520589  1.188963e+07\n",
       "std       63.570576    64.313382    62.779670    63.552224  2.061999e+07\n",
       "min       19.001730    20.312194    17.036034    20.213909  0.000000e+00\n",
       "25%       36.529133    37.105430    35.989641    36.566533  4.799653e+06\n",
       "50%       55.504938    56.145825    54.762127    55.611511  8.344398e+06\n",
       "75%       83.112986    84.105051    82.127443    83.135585  1.362032e+07\n",
       "max      356.113861   356.893408   348.074624   354.749603  8.552157e+08"
      ]
     },
     "execution_count": 8,
     "metadata": {},
     "output_type": "execute_result"
    }
   ],
   "source": [
    "df.describe()"
   ]
  },
  {
   "cell_type": "code",
   "execution_count": 9,
   "id": "2d9e1000",
   "metadata": {},
   "outputs": [],
   "source": [
    "df = df.reset_index()"
   ]
  },
  {
   "cell_type": "code",
   "execution_count": 10,
   "id": "478cba8b",
   "metadata": {},
   "outputs": [
    {
     "data": {
      "text/plain": [
       "MultiIndex([(  'Date',             ''),\n",
       "            ( 'Close', 'POWERGRID.NS'),\n",
       "            (  'High', 'POWERGRID.NS'),\n",
       "            (   'Low', 'POWERGRID.NS'),\n",
       "            (  'Open', 'POWERGRID.NS'),\n",
       "            ('Volume', 'POWERGRID.NS')],\n",
       "           names=['Price', 'Ticker'])"
      ]
     },
     "execution_count": 10,
     "metadata": {},
     "output_type": "execute_result"
    }
   ],
   "source": [
    "df.columns"
   ]
  },
  {
   "cell_type": "code",
   "execution_count": 11,
   "id": "3a35b7f5",
   "metadata": {},
   "outputs": [
    {
     "data": {
      "text/html": [
       "<div>\n",
       "<style scoped>\n",
       "    .dataframe tbody tr th:only-of-type {\n",
       "        vertical-align: middle;\n",
       "    }\n",
       "\n",
       "    .dataframe tbody tr th {\n",
       "        vertical-align: top;\n",
       "    }\n",
       "\n",
       "    .dataframe thead tr th {\n",
       "        text-align: left;\n",
       "    }\n",
       "</style>\n",
       "<table border=\"1\" class=\"dataframe\">\n",
       "  <thead>\n",
       "    <tr>\n",
       "      <th>Price</th>\n",
       "      <th>Date</th>\n",
       "      <th>Close</th>\n",
       "      <th>High</th>\n",
       "      <th>Low</th>\n",
       "      <th>Open</th>\n",
       "      <th>Volume</th>\n",
       "    </tr>\n",
       "    <tr>\n",
       "      <th>Ticker</th>\n",
       "      <th></th>\n",
       "      <th>POWERGRID.NS</th>\n",
       "      <th>POWERGRID.NS</th>\n",
       "      <th>POWERGRID.NS</th>\n",
       "      <th>POWERGRID.NS</th>\n",
       "      <th>POWERGRID.NS</th>\n",
       "    </tr>\n",
       "  </thead>\n",
       "  <tbody>\n",
       "    <tr>\n",
       "      <th>0</th>\n",
       "      <td>2007-10-05</td>\n",
       "      <td>32.545429</td>\n",
       "      <td>35.424697</td>\n",
       "      <td>26.900123</td>\n",
       "      <td>29.051487</td>\n",
       "      <td>855215656</td>\n",
       "    </tr>\n",
       "    <tr>\n",
       "      <th>1</th>\n",
       "      <td>2007-10-08</td>\n",
       "      <td>30.879328</td>\n",
       "      <td>33.645365</td>\n",
       "      <td>30.685219</td>\n",
       "      <td>33.645365</td>\n",
       "      <td>126671715</td>\n",
       "    </tr>\n",
       "    <tr>\n",
       "      <th>2</th>\n",
       "      <td>2007-10-09</td>\n",
       "      <td>32.982182</td>\n",
       "      <td>33.273343</td>\n",
       "      <td>29.229427</td>\n",
       "      <td>30.895519</td>\n",
       "      <td>116725709</td>\n",
       "    </tr>\n",
       "    <tr>\n",
       "      <th>3</th>\n",
       "      <td>2007-10-10</td>\n",
       "      <td>33.289513</td>\n",
       "      <td>33.968891</td>\n",
       "      <td>32.998352</td>\n",
       "      <td>33.839485</td>\n",
       "      <td>67931378</td>\n",
       "    </tr>\n",
       "    <tr>\n",
       "      <th>4</th>\n",
       "      <td>2007-10-11</td>\n",
       "      <td>37.009903</td>\n",
       "      <td>38.821577</td>\n",
       "      <td>32.998342</td>\n",
       "      <td>38.821577</td>\n",
       "      <td>106320954</td>\n",
       "    </tr>\n",
       "  </tbody>\n",
       "</table>\n",
       "</div>"
      ],
      "text/plain": [
       "Price        Date        Close         High          Low         Open  \\\n",
       "Ticker            POWERGRID.NS POWERGRID.NS POWERGRID.NS POWERGRID.NS   \n",
       "0      2007-10-05    32.545429    35.424697    26.900123    29.051487   \n",
       "1      2007-10-08    30.879328    33.645365    30.685219    33.645365   \n",
       "2      2007-10-09    32.982182    33.273343    29.229427    30.895519   \n",
       "3      2007-10-10    33.289513    33.968891    32.998352    33.839485   \n",
       "4      2007-10-11    37.009903    38.821577    32.998342    38.821577   \n",
       "\n",
       "Price        Volume  \n",
       "Ticker POWERGRID.NS  \n",
       "0         855215656  \n",
       "1         126671715  \n",
       "2         116725709  \n",
       "3          67931378  \n",
       "4         106320954  "
      ]
     },
     "execution_count": 11,
     "metadata": {},
     "output_type": "execute_result"
    }
   ],
   "source": [
    "df.head()"
   ]
  },
  {
   "cell_type": "code",
   "execution_count": null,
   "id": "1d9832e8",
   "metadata": {},
   "outputs": [],
   "source": [
    "# candlestick\n",
    "\n",
    "import plotly.graph_objects as go"
   ]
  }
 ],
 "metadata": {
  "kernelspec": {
   "display_name": "ven",
   "language": "python",
   "name": "python3"
  },
  "language_info": {
   "codemirror_mode": {
    "name": "ipython",
    "version": 3
   },
   "file_extension": ".py",
   "mimetype": "text/x-python",
   "name": "python",
   "nbconvert_exporter": "python",
   "pygments_lexer": "ipython3",
   "version": "3.11.4"
  }
 },
 "nbformat": 4,
 "nbformat_minor": 5
}
