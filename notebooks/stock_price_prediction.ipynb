{
 "cells": [
  {
   "cell_type": "code",
   "execution_count": 26,
   "id": "5de161b0",
   "metadata": {},
   "outputs": [],
   "source": [
    "import pandas as pd \n",
    "import numpy as np \n",
    "import matplotlib.pyplot as plt \n",
    "import pandas_datareader as data\n",
    "\n",
    "plt.style.use('fivethirtyeight')\n",
    "%matplotlib inline"
   ]
  },
  {
   "cell_type": "code",
   "execution_count": 27,
   "id": "e59db4d3",
   "metadata": {},
   "outputs": [
    {
     "name": "stderr",
     "output_type": "stream",
     "text": [
      "C:\\Users\\junai\\AppData\\Local\\Temp\\ipykernel_9152\\2592194838.py:8: FutureWarning:\n",
      "\n",
      "YF.download() has changed argument auto_adjust default to True\n",
      "\n",
      "[*********************100%***********************]  1 of 1 completed\n"
     ]
    }
   ],
   "source": [
    "import yfinance as yf\n",
    "import datetime as dt\n",
    "\n",
    "stock = \"POWERGRID.NS\"\n",
    "start = dt.datetime(2000, 1, 1)\n",
    "end = dt.datetime(2024, 11, 1)\n",
    "\n",
    "df = yf.download(stock, start, end)\n"
   ]
  },
  {
   "cell_type": "code",
   "execution_count": 28,
   "id": "0312dfa8",
   "metadata": {},
   "outputs": [
    {
     "data": {
      "text/html": [
       "<div>\n",
       "<style scoped>\n",
       "    .dataframe tbody tr th:only-of-type {\n",
       "        vertical-align: middle;\n",
       "    }\n",
       "\n",
       "    .dataframe tbody tr th {\n",
       "        vertical-align: top;\n",
       "    }\n",
       "\n",
       "    .dataframe thead tr th {\n",
       "        text-align: left;\n",
       "    }\n",
       "\n",
       "    .dataframe thead tr:last-of-type th {\n",
       "        text-align: right;\n",
       "    }\n",
       "</style>\n",
       "<table border=\"1\" class=\"dataframe\">\n",
       "  <thead>\n",
       "    <tr>\n",
       "      <th>Price</th>\n",
       "      <th>Close</th>\n",
       "      <th>High</th>\n",
       "      <th>Low</th>\n",
       "      <th>Open</th>\n",
       "      <th>Volume</th>\n",
       "    </tr>\n",
       "    <tr>\n",
       "      <th>Ticker</th>\n",
       "      <th>POWERGRID.NS</th>\n",
       "      <th>POWERGRID.NS</th>\n",
       "      <th>POWERGRID.NS</th>\n",
       "      <th>POWERGRID.NS</th>\n",
       "      <th>POWERGRID.NS</th>\n",
       "    </tr>\n",
       "    <tr>\n",
       "      <th>Date</th>\n",
       "      <th></th>\n",
       "      <th></th>\n",
       "      <th></th>\n",
       "      <th></th>\n",
       "      <th></th>\n",
       "    </tr>\n",
       "  </thead>\n",
       "  <tbody>\n",
       "    <tr>\n",
       "      <th>2007-10-05</th>\n",
       "      <td>32.545422</td>\n",
       "      <td>35.424689</td>\n",
       "      <td>26.900117</td>\n",
       "      <td>29.051480</td>\n",
       "      <td>855215656</td>\n",
       "    </tr>\n",
       "    <tr>\n",
       "      <th>2007-10-08</th>\n",
       "      <td>30.879330</td>\n",
       "      <td>33.645367</td>\n",
       "      <td>30.685221</td>\n",
       "      <td>33.645367</td>\n",
       "      <td>126671715</td>\n",
       "    </tr>\n",
       "    <tr>\n",
       "      <th>2007-10-09</th>\n",
       "      <td>32.982166</td>\n",
       "      <td>33.273327</td>\n",
       "      <td>29.229414</td>\n",
       "      <td>30.895505</td>\n",
       "      <td>116725709</td>\n",
       "    </tr>\n",
       "    <tr>\n",
       "      <th>2007-10-10</th>\n",
       "      <td>33.289513</td>\n",
       "      <td>33.968891</td>\n",
       "      <td>32.998352</td>\n",
       "      <td>33.839485</td>\n",
       "      <td>67931378</td>\n",
       "    </tr>\n",
       "    <tr>\n",
       "      <th>2007-10-11</th>\n",
       "      <td>37.009907</td>\n",
       "      <td>38.821581</td>\n",
       "      <td>32.998345</td>\n",
       "      <td>38.821581</td>\n",
       "      <td>106320954</td>\n",
       "    </tr>\n",
       "  </tbody>\n",
       "</table>\n",
       "</div>"
      ],
      "text/plain": [
       "Price             Close         High          Low         Open       Volume\n",
       "Ticker     POWERGRID.NS POWERGRID.NS POWERGRID.NS POWERGRID.NS POWERGRID.NS\n",
       "Date                                                                       \n",
       "2007-10-05    32.545422    35.424689    26.900117    29.051480    855215656\n",
       "2007-10-08    30.879330    33.645367    30.685221    33.645367    126671715\n",
       "2007-10-09    32.982166    33.273327    29.229414    30.895505    116725709\n",
       "2007-10-10    33.289513    33.968891    32.998352    33.839485     67931378\n",
       "2007-10-11    37.009907    38.821581    32.998345    38.821581    106320954"
      ]
     },
     "execution_count": 28,
     "metadata": {},
     "output_type": "execute_result"
    }
   ],
   "source": [
    "df.head()"
   ]
  },
  {
   "cell_type": "code",
   "execution_count": 29,
   "id": "12e79481",
   "metadata": {},
   "outputs": [
    {
     "data": {
      "text/plain": [
       "(4208, 5)"
      ]
     },
     "execution_count": 29,
     "metadata": {},
     "output_type": "execute_result"
    }
   ],
   "source": [
    "df.shape"
   ]
  },
  {
   "cell_type": "code",
   "execution_count": 30,
   "id": "9741ffed",
   "metadata": {},
   "outputs": [
    {
     "name": "stdout",
     "output_type": "stream",
     "text": [
      "<class 'pandas.core.frame.DataFrame'>\n",
      "DatetimeIndex: 4208 entries, 2007-10-05 to 2024-10-31\n",
      "Data columns (total 5 columns):\n",
      " #   Column                  Non-Null Count  Dtype  \n",
      "---  ------                  --------------  -----  \n",
      " 0   (Close, POWERGRID.NS)   4208 non-null   float64\n",
      " 1   (High, POWERGRID.NS)    4208 non-null   float64\n",
      " 2   (Low, POWERGRID.NS)     4208 non-null   float64\n",
      " 3   (Open, POWERGRID.NS)    4208 non-null   float64\n",
      " 4   (Volume, POWERGRID.NS)  4208 non-null   int64  \n",
      "dtypes: float64(4), int64(1)\n",
      "memory usage: 197.2 KB\n"
     ]
    }
   ],
   "source": [
    "df.info()"
   ]
  },
  {
   "cell_type": "code",
   "execution_count": 31,
   "id": "183dca2f",
   "metadata": {},
   "outputs": [
    {
     "data": {
      "text/plain": [
       "Price   Ticker      \n",
       "Close   POWERGRID.NS    0\n",
       "High    POWERGRID.NS    0\n",
       "Low     POWERGRID.NS    0\n",
       "Open    POWERGRID.NS    0\n",
       "Volume  POWERGRID.NS    0\n",
       "dtype: int64"
      ]
     },
     "execution_count": 31,
     "metadata": {},
     "output_type": "execute_result"
    }
   ],
   "source": [
    "df.isnull().sum()"
   ]
  },
  {
   "cell_type": "code",
   "execution_count": 32,
   "id": "15d3e016",
   "metadata": {},
   "outputs": [
    {
     "data": {
      "text/html": [
       "<div>\n",
       "<style scoped>\n",
       "    .dataframe tbody tr th:only-of-type {\n",
       "        vertical-align: middle;\n",
       "    }\n",
       "\n",
       "    .dataframe tbody tr th {\n",
       "        vertical-align: top;\n",
       "    }\n",
       "\n",
       "    .dataframe thead tr th {\n",
       "        text-align: left;\n",
       "    }\n",
       "</style>\n",
       "<table border=\"1\" class=\"dataframe\">\n",
       "  <thead>\n",
       "    <tr>\n",
       "      <th>Price</th>\n",
       "      <th>Close</th>\n",
       "      <th>High</th>\n",
       "      <th>Low</th>\n",
       "      <th>Open</th>\n",
       "      <th>Volume</th>\n",
       "    </tr>\n",
       "    <tr>\n",
       "      <th>Ticker</th>\n",
       "      <th>POWERGRID.NS</th>\n",
       "      <th>POWERGRID.NS</th>\n",
       "      <th>POWERGRID.NS</th>\n",
       "      <th>POWERGRID.NS</th>\n",
       "      <th>POWERGRID.NS</th>\n",
       "    </tr>\n",
       "  </thead>\n",
       "  <tbody>\n",
       "    <tr>\n",
       "      <th>count</th>\n",
       "      <td>4208.000000</td>\n",
       "      <td>4208.000000</td>\n",
       "      <td>4208.000000</td>\n",
       "      <td>4208.000000</td>\n",
       "      <td>4.208000e+03</td>\n",
       "    </tr>\n",
       "    <tr>\n",
       "      <th>mean</th>\n",
       "      <td>79.483549</td>\n",
       "      <td>80.517027</td>\n",
       "      <td>78.462750</td>\n",
       "      <td>79.520589</td>\n",
       "      <td>1.188963e+07</td>\n",
       "    </tr>\n",
       "    <tr>\n",
       "      <th>std</th>\n",
       "      <td>63.570576</td>\n",
       "      <td>64.313382</td>\n",
       "      <td>62.779670</td>\n",
       "      <td>63.552224</td>\n",
       "      <td>2.061999e+07</td>\n",
       "    </tr>\n",
       "    <tr>\n",
       "      <th>min</th>\n",
       "      <td>19.001734</td>\n",
       "      <td>20.312198</td>\n",
       "      <td>17.036038</td>\n",
       "      <td>20.213913</td>\n",
       "      <td>0.000000e+00</td>\n",
       "    </tr>\n",
       "    <tr>\n",
       "      <th>25%</th>\n",
       "      <td>36.529124</td>\n",
       "      <td>37.105431</td>\n",
       "      <td>35.989642</td>\n",
       "      <td>36.566538</td>\n",
       "      <td>4.799653e+06</td>\n",
       "    </tr>\n",
       "    <tr>\n",
       "      <th>50%</th>\n",
       "      <td>55.504946</td>\n",
       "      <td>56.145829</td>\n",
       "      <td>54.762131</td>\n",
       "      <td>55.611507</td>\n",
       "      <td>8.344398e+06</td>\n",
       "    </tr>\n",
       "    <tr>\n",
       "      <th>75%</th>\n",
       "      <td>83.112988</td>\n",
       "      <td>84.105052</td>\n",
       "      <td>82.127460</td>\n",
       "      <td>83.135593</td>\n",
       "      <td>1.362032e+07</td>\n",
       "    </tr>\n",
       "    <tr>\n",
       "      <th>max</th>\n",
       "      <td>356.113861</td>\n",
       "      <td>356.893408</td>\n",
       "      <td>348.074624</td>\n",
       "      <td>354.749603</td>\n",
       "      <td>8.552157e+08</td>\n",
       "    </tr>\n",
       "  </tbody>\n",
       "</table>\n",
       "</div>"
      ],
      "text/plain": [
       "Price         Close         High          Low         Open        Volume\n",
       "Ticker POWERGRID.NS POWERGRID.NS POWERGRID.NS POWERGRID.NS  POWERGRID.NS\n",
       "count   4208.000000  4208.000000  4208.000000  4208.000000  4.208000e+03\n",
       "mean      79.483549    80.517027    78.462750    79.520589  1.188963e+07\n",
       "std       63.570576    64.313382    62.779670    63.552224  2.061999e+07\n",
       "min       19.001734    20.312198    17.036038    20.213913  0.000000e+00\n",
       "25%       36.529124    37.105431    35.989642    36.566538  4.799653e+06\n",
       "50%       55.504946    56.145829    54.762131    55.611507  8.344398e+06\n",
       "75%       83.112988    84.105052    82.127460    83.135593  1.362032e+07\n",
       "max      356.113861   356.893408   348.074624   354.749603  8.552157e+08"
      ]
     },
     "execution_count": 32,
     "metadata": {},
     "output_type": "execute_result"
    }
   ],
   "source": [
    "df.describe()"
   ]
  },
  {
   "cell_type": "code",
   "execution_count": 33,
   "id": "2d9e1000",
   "metadata": {},
   "outputs": [],
   "source": [
    "df = df.reset_index()"
   ]
  },
  {
   "cell_type": "code",
   "execution_count": 34,
   "id": "478cba8b",
   "metadata": {},
   "outputs": [
    {
     "data": {
      "text/plain": [
       "MultiIndex([(  'Date',             ''),\n",
       "            ( 'Close', 'POWERGRID.NS'),\n",
       "            (  'High', 'POWERGRID.NS'),\n",
       "            (   'Low', 'POWERGRID.NS'),\n",
       "            (  'Open', 'POWERGRID.NS'),\n",
       "            ('Volume', 'POWERGRID.NS')],\n",
       "           names=['Price', 'Ticker'])"
      ]
     },
     "execution_count": 34,
     "metadata": {},
     "output_type": "execute_result"
    }
   ],
   "source": [
    "df.columns"
   ]
  },
  {
   "cell_type": "code",
   "execution_count": 35,
   "id": "3a35b7f5",
   "metadata": {},
   "outputs": [
    {
     "data": {
      "text/html": [
       "<div>\n",
       "<style scoped>\n",
       "    .dataframe tbody tr th:only-of-type {\n",
       "        vertical-align: middle;\n",
       "    }\n",
       "\n",
       "    .dataframe tbody tr th {\n",
       "        vertical-align: top;\n",
       "    }\n",
       "\n",
       "    .dataframe thead tr th {\n",
       "        text-align: left;\n",
       "    }\n",
       "</style>\n",
       "<table border=\"1\" class=\"dataframe\">\n",
       "  <thead>\n",
       "    <tr>\n",
       "      <th>Price</th>\n",
       "      <th>Date</th>\n",
       "      <th>Close</th>\n",
       "      <th>High</th>\n",
       "      <th>Low</th>\n",
       "      <th>Open</th>\n",
       "      <th>Volume</th>\n",
       "    </tr>\n",
       "    <tr>\n",
       "      <th>Ticker</th>\n",
       "      <th></th>\n",
       "      <th>POWERGRID.NS</th>\n",
       "      <th>POWERGRID.NS</th>\n",
       "      <th>POWERGRID.NS</th>\n",
       "      <th>POWERGRID.NS</th>\n",
       "      <th>POWERGRID.NS</th>\n",
       "    </tr>\n",
       "  </thead>\n",
       "  <tbody>\n",
       "    <tr>\n",
       "      <th>0</th>\n",
       "      <td>2007-10-05</td>\n",
       "      <td>32.545422</td>\n",
       "      <td>35.424689</td>\n",
       "      <td>26.900117</td>\n",
       "      <td>29.051480</td>\n",
       "      <td>855215656</td>\n",
       "    </tr>\n",
       "    <tr>\n",
       "      <th>1</th>\n",
       "      <td>2007-10-08</td>\n",
       "      <td>30.879330</td>\n",
       "      <td>33.645367</td>\n",
       "      <td>30.685221</td>\n",
       "      <td>33.645367</td>\n",
       "      <td>126671715</td>\n",
       "    </tr>\n",
       "    <tr>\n",
       "      <th>2</th>\n",
       "      <td>2007-10-09</td>\n",
       "      <td>32.982166</td>\n",
       "      <td>33.273327</td>\n",
       "      <td>29.229414</td>\n",
       "      <td>30.895505</td>\n",
       "      <td>116725709</td>\n",
       "    </tr>\n",
       "    <tr>\n",
       "      <th>3</th>\n",
       "      <td>2007-10-10</td>\n",
       "      <td>33.289513</td>\n",
       "      <td>33.968891</td>\n",
       "      <td>32.998352</td>\n",
       "      <td>33.839485</td>\n",
       "      <td>67931378</td>\n",
       "    </tr>\n",
       "    <tr>\n",
       "      <th>4</th>\n",
       "      <td>2007-10-11</td>\n",
       "      <td>37.009907</td>\n",
       "      <td>38.821581</td>\n",
       "      <td>32.998345</td>\n",
       "      <td>38.821581</td>\n",
       "      <td>106320954</td>\n",
       "    </tr>\n",
       "  </tbody>\n",
       "</table>\n",
       "</div>"
      ],
      "text/plain": [
       "Price        Date        Close         High          Low         Open  \\\n",
       "Ticker            POWERGRID.NS POWERGRID.NS POWERGRID.NS POWERGRID.NS   \n",
       "0      2007-10-05    32.545422    35.424689    26.900117    29.051480   \n",
       "1      2007-10-08    30.879330    33.645367    30.685221    33.645367   \n",
       "2      2007-10-09    32.982166    33.273327    29.229414    30.895505   \n",
       "3      2007-10-10    33.289513    33.968891    32.998352    33.839485   \n",
       "4      2007-10-11    37.009907    38.821581    32.998345    38.821581   \n",
       "\n",
       "Price        Volume  \n",
       "Ticker POWERGRID.NS  \n",
       "0         855215656  \n",
       "1         126671715  \n",
       "2         116725709  \n",
       "3          67931378  \n",
       "4         106320954  "
      ]
     },
     "execution_count": 35,
     "metadata": {},
     "output_type": "execute_result"
    }
   ],
   "source": [
    "df.head()"
   ]
  },
  {
   "cell_type": "code",
   "execution_count": 36,
   "id": "d1268fbf",
   "metadata": {},
   "outputs": [],
   "source": [
    "df.to_csv('../data/powergrid.csv')"
   ]
  },
  {
   "cell_type": "code",
   "execution_count": 37,
   "id": "1e3edada",
   "metadata": {},
   "outputs": [],
   "source": [
    "data01 = pd.read_csv('../data/powergrid.csv')"
   ]
  },
  {
   "cell_type": "code",
   "execution_count": 38,
   "id": "0555457e",
   "metadata": {},
   "outputs": [
    {
     "data": {
      "text/html": [
       "<div>\n",
       "<style scoped>\n",
       "    .dataframe tbody tr th:only-of-type {\n",
       "        vertical-align: middle;\n",
       "    }\n",
       "\n",
       "    .dataframe tbody tr th {\n",
       "        vertical-align: top;\n",
       "    }\n",
       "\n",
       "    .dataframe thead th {\n",
       "        text-align: right;\n",
       "    }\n",
       "</style>\n",
       "<table border=\"1\" class=\"dataframe\">\n",
       "  <thead>\n",
       "    <tr style=\"text-align: right;\">\n",
       "      <th></th>\n",
       "      <th>Price</th>\n",
       "      <th>Date</th>\n",
       "      <th>Close</th>\n",
       "      <th>High</th>\n",
       "      <th>Low</th>\n",
       "      <th>Open</th>\n",
       "      <th>Volume</th>\n",
       "    </tr>\n",
       "  </thead>\n",
       "  <tbody>\n",
       "    <tr>\n",
       "      <th>0</th>\n",
       "      <td>Ticker</td>\n",
       "      <td>NaN</td>\n",
       "      <td>POWERGRID.NS</td>\n",
       "      <td>POWERGRID.NS</td>\n",
       "      <td>POWERGRID.NS</td>\n",
       "      <td>POWERGRID.NS</td>\n",
       "      <td>POWERGRID.NS</td>\n",
       "    </tr>\n",
       "    <tr>\n",
       "      <th>1</th>\n",
       "      <td>0</td>\n",
       "      <td>2007-10-05</td>\n",
       "      <td>32.5454216003418</td>\n",
       "      <td>35.4246891776911</td>\n",
       "      <td>26.90011689528922</td>\n",
       "      <td>29.051480080819935</td>\n",
       "      <td>855215656</td>\n",
       "    </tr>\n",
       "    <tr>\n",
       "      <th>2</th>\n",
       "      <td>1</td>\n",
       "      <td>2007-10-08</td>\n",
       "      <td>30.879329681396484</td>\n",
       "      <td>33.6453667623481</td>\n",
       "      <td>30.68522096927368</td>\n",
       "      <td>33.6453667623481</td>\n",
       "      <td>126671715</td>\n",
       "    </tr>\n",
       "    <tr>\n",
       "      <th>3</th>\n",
       "      <td>2</td>\n",
       "      <td>2007-10-09</td>\n",
       "      <td>32.9821662902832</td>\n",
       "      <td>33.27332717981798</td>\n",
       "      <td>29.229413747593593</td>\n",
       "      <td>30.89550520408466</td>\n",
       "      <td>116725709</td>\n",
       "    </tr>\n",
       "    <tr>\n",
       "      <th>4</th>\n",
       "      <td>3</td>\n",
       "      <td>2007-10-10</td>\n",
       "      <td>33.289512634277344</td>\n",
       "      <td>33.968891159536575</td>\n",
       "      <td>32.998351662859996</td>\n",
       "      <td>33.839484576934595</td>\n",
       "      <td>67931378</td>\n",
       "    </tr>\n",
       "  </tbody>\n",
       "</table>\n",
       "</div>"
      ],
      "text/plain": [
       "    Price        Date               Close                High  \\\n",
       "0  Ticker         NaN        POWERGRID.NS        POWERGRID.NS   \n",
       "1       0  2007-10-05    32.5454216003418    35.4246891776911   \n",
       "2       1  2007-10-08  30.879329681396484    33.6453667623481   \n",
       "3       2  2007-10-09    32.9821662902832   33.27332717981798   \n",
       "4       3  2007-10-10  33.289512634277344  33.968891159536575   \n",
       "\n",
       "                  Low                Open        Volume  \n",
       "0        POWERGRID.NS        POWERGRID.NS  POWERGRID.NS  \n",
       "1   26.90011689528922  29.051480080819935     855215656  \n",
       "2   30.68522096927368    33.6453667623481     126671715  \n",
       "3  29.229413747593593   30.89550520408466     116725709  \n",
       "4  32.998351662859996  33.839484576934595      67931378  "
      ]
     },
     "execution_count": 38,
     "metadata": {},
     "output_type": "execute_result"
    }
   ],
   "source": [
    "data01.head()"
   ]
  },
  {
   "cell_type": "code",
   "execution_count": 39,
   "id": "1d9832e8",
   "metadata": {},
   "outputs": [
    {
     "ename": "ValueError",
     "evalue": "Mime type rendering requires nbformat>=4.2.0 but it is not installed",
     "output_type": "error",
     "traceback": [
      "\u001b[31m---------------------------------------------------------------------------\u001b[39m",
      "\u001b[31mValueError\u001b[39m                                Traceback (most recent call last)",
      "\u001b[36mCell\u001b[39m\u001b[36m \u001b[39m\u001b[32mIn[39]\u001b[39m\u001b[32m, line 10\u001b[39m\n\u001b[32m      5\u001b[39m fig = go.Figure(data=[go.Candlestick(x = data01[\u001b[33m'\u001b[39m\u001b[33mDate\u001b[39m\u001b[33m'\u001b[39m], \u001b[38;5;28mopen\u001b[39m = data01[\u001b[33m'\u001b[39m\u001b[33mOpen\u001b[39m\u001b[33m'\u001b[39m], \n\u001b[32m      6\u001b[39m                                     high = data01[\u001b[33m'\u001b[39m\u001b[33mHigh\u001b[39m\u001b[33m'\u001b[39m],\n\u001b[32m      7\u001b[39m                                     low = data01[\u001b[33m'\u001b[39m\u001b[33mLow\u001b[39m\u001b[33m'\u001b[39m], \n\u001b[32m      8\u001b[39m                                     close = data01[\u001b[33m'\u001b[39m\u001b[33mClose\u001b[39m\u001b[33m'\u001b[39m])])\n\u001b[32m      9\u001b[39m fig.update_layout(xaxis_rangeslider_visible=\u001b[38;5;28;01mFalse\u001b[39;00m)\n\u001b[32m---> \u001b[39m\u001b[32m10\u001b[39m \u001b[43mfig\u001b[49m\u001b[43m.\u001b[49m\u001b[43mshow\u001b[49m\u001b[43m(\u001b[49m\u001b[43m)\u001b[49m\n",
      "\u001b[36mFile \u001b[39m\u001b[32mc:\\Users\\junai\\OneDrive\\Documents\\Coding\\General\\Data Science FCC 1 Stock Price\\ven\\Lib\\site-packages\\plotly\\basedatatypes.py:3420\u001b[39m, in \u001b[36mBaseFigure.show\u001b[39m\u001b[34m(self, *args, **kwargs)\u001b[39m\n\u001b[32m   3387\u001b[39m \u001b[38;5;250m\u001b[39m\u001b[33;03m\"\"\"\u001b[39;00m\n\u001b[32m   3388\u001b[39m \u001b[33;03mShow a figure using either the default renderer(s) or the renderer(s)\u001b[39;00m\n\u001b[32m   3389\u001b[39m \u001b[33;03mspecified by the renderer argument\u001b[39;00m\n\u001b[32m   (...)\u001b[39m\u001b[32m   3416\u001b[39m \u001b[33;03mNone\u001b[39;00m\n\u001b[32m   3417\u001b[39m \u001b[33;03m\"\"\"\u001b[39;00m\n\u001b[32m   3418\u001b[39m \u001b[38;5;28;01mimport\u001b[39;00m\u001b[38;5;250m \u001b[39m\u001b[34;01mplotly\u001b[39;00m\u001b[34;01m.\u001b[39;00m\u001b[34;01mio\u001b[39;00m\u001b[38;5;250m \u001b[39m\u001b[38;5;28;01mas\u001b[39;00m\u001b[38;5;250m \u001b[39m\u001b[34;01mpio\u001b[39;00m\n\u001b[32m-> \u001b[39m\u001b[32m3420\u001b[39m \u001b[38;5;28;01mreturn\u001b[39;00m \u001b[43mpio\u001b[49m\u001b[43m.\u001b[49m\u001b[43mshow\u001b[49m\u001b[43m(\u001b[49m\u001b[38;5;28;43mself\u001b[39;49m\u001b[43m,\u001b[49m\u001b[43m \u001b[49m\u001b[43m*\u001b[49m\u001b[43margs\u001b[49m\u001b[43m,\u001b[49m\u001b[43m \u001b[49m\u001b[43m*\u001b[49m\u001b[43m*\u001b[49m\u001b[43mkwargs\u001b[49m\u001b[43m)\u001b[49m\n",
      "\u001b[36mFile \u001b[39m\u001b[32mc:\\Users\\junai\\OneDrive\\Documents\\Coding\\General\\Data Science FCC 1 Stock Price\\ven\\Lib\\site-packages\\plotly\\io\\_renderers.py:415\u001b[39m, in \u001b[36mshow\u001b[39m\u001b[34m(fig, renderer, validate, **kwargs)\u001b[39m\n\u001b[32m    410\u001b[39m     \u001b[38;5;28;01mraise\u001b[39;00m \u001b[38;5;167;01mValueError\u001b[39;00m(\n\u001b[32m    411\u001b[39m         \u001b[33m\"\u001b[39m\u001b[33mMime type rendering requires ipython but it is not installed\u001b[39m\u001b[33m\"\u001b[39m\n\u001b[32m    412\u001b[39m     )\n\u001b[32m    414\u001b[39m \u001b[38;5;28;01mif\u001b[39;00m \u001b[38;5;129;01mnot\u001b[39;00m nbformat \u001b[38;5;129;01mor\u001b[39;00m Version(nbformat.__version__) < Version(\u001b[33m\"\u001b[39m\u001b[33m4.2.0\u001b[39m\u001b[33m\"\u001b[39m):\n\u001b[32m--> \u001b[39m\u001b[32m415\u001b[39m     \u001b[38;5;28;01mraise\u001b[39;00m \u001b[38;5;167;01mValueError\u001b[39;00m(\n\u001b[32m    416\u001b[39m         \u001b[33m\"\u001b[39m\u001b[33mMime type rendering requires nbformat>=4.2.0 but it is not installed\u001b[39m\u001b[33m\"\u001b[39m\n\u001b[32m    417\u001b[39m     )\n\u001b[32m    419\u001b[39m display_jupyter_version_warnings()\n\u001b[32m    421\u001b[39m ipython_display.display(bundle, raw=\u001b[38;5;28;01mTrue\u001b[39;00m)\n",
      "\u001b[31mValueError\u001b[39m: Mime type rendering requires nbformat>=4.2.0 but it is not installed"
     ]
    }
   ],
   "source": [
    "# candlestick\n",
    "\n",
    "import plotly.graph_objects as go\n",
    "\n",
    "fig = go.Figure(data=[go.Candlestick(x = data01['Date'], open = data01['Open'], \n",
    "                                    high = data01['High'],\n",
    "                                    low = data01['Low'], \n",
    "                                    close = data01['Close'])])\n",
    "fig.update_layout(xaxis_rangeslider_visible=False)\n",
    "fig.show()"
   ]
  }
 ],
 "metadata": {
  "kernelspec": {
   "display_name": "ven",
   "language": "python",
   "name": "python3"
  },
  "language_info": {
   "codemirror_mode": {
    "name": "ipython",
    "version": 3
   },
   "file_extension": ".py",
   "mimetype": "text/x-python",
   "name": "python",
   "nbconvert_exporter": "python",
   "pygments_lexer": "ipython3",
   "version": "3.11.4"
  }
 },
 "nbformat": 4,
 "nbformat_minor": 5
}
